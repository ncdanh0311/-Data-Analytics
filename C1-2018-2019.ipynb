{
  "nbformat": 4,
  "nbformat_minor": 0,
  "metadata": {
    "colab": {
      "provenance": [],
      "authorship_tag": "ABX9TyMCBqRpBbDf5n2Wj50CWCc+",
      "include_colab_link": true
    },
    "kernelspec": {
      "name": "python3",
      "display_name": "Python 3"
    },
    "language_info": {
      "name": "python"
    }
  },
  "cells": [
    {
      "cell_type": "markdown",
      "metadata": {
        "id": "view-in-github",
        "colab_type": "text"
      },
      "source": [
        "<a href=\"https://colab.research.google.com/github/ncdanh0311/-Data-Analytics/blob/main/C1-2018-2019.ipynb\" target=\"_parent\"><img src=\"https://colab.research.google.com/assets/colab-badge.svg\" alt=\"Open In Colab\"/></a>"
      ]
    },
    {
      "cell_type": "markdown",
      "source": [
        "Football Analysis Using Heatmaps: A Case Study of the Champions League Final 2018/19\n",
        "Football is a sport rich in data, and analyzing this data offers incredible insights into team and player performance.\n",
        "\n",
        "In this project, I have created a heatmap to visualize key aspects of the UEFA Champions League Final 2018/19, focusing on Liverpool's passing dynamics.\n",
        "\n",
        "Using the powerful libraries mplsoccer and statsbombpy, I generated a comprehensive visualization that highlights the starting points of passes, ending points of passes, and specifically the pass endings for Liverpool's star player, Mohamed Salah."
      ],
      "metadata": {
        "id": "dr9nyNtvsPYZ"
      }
    }
  ]
}