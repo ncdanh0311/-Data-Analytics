{
  "nbformat": 4,
  "nbformat_minor": 0,
  "metadata": {
    "colab": {
      "provenance": [],
      "authorship_tag": "ABX9TyPhLM9UOGkHugOkNP3aMelw",
      "include_colab_link": true
    },
    "kernelspec": {
      "name": "python3",
      "display_name": "Python 3"
    },
    "language_info": {
      "name": "python"
    }
  },
  "cells": [
    {
      "cell_type": "markdown",
      "metadata": {
        "id": "view-in-github",
        "colab_type": "text"
      },
      "source": [
        "<a href=\"https://colab.research.google.com/github/ncdanh0311/-Data-Analytics/blob/main/Liverpool%2023-24.ipynb\" target=\"_parent\"><img src=\"https://colab.research.google.com/assets/colab-badge.svg\" alt=\"Open In Colab\"/></a>"
      ]
    },
    {
      "cell_type": "code",
      "execution_count": 11,
      "metadata": {
        "id": "7GXkvby-SYvG"
      },
      "outputs": [],
      "source": [
        "import numpy as np # linear algebra\n",
        "import pandas as pd # data processing, CSV file I/O (e.g. pd.read_csv)\n",
        "\n",
        "# Input data files are available in the read-only \"../input/\" directory\n",
        "# For example, running this (by clicking run or pressing Shift+Enter) will list all files under the input directory\n",
        "\n",
        "import os\n",
        "for dirname, _, filenames in os.walk('/kaggle/input'):\n",
        "    for filename in filenames:\n",
        "        print(os.path.join(dirname, filename))"
      ]
    },
    {
      "cell_type": "code",
      "source": [
        "import matplotlib.pyplot as plt\n",
        "import seaborn as sns\n",
        "df = pd.read_csv('/content/-Data-Analytics/Liverpool stats.csv')"
      ],
      "metadata": {
        "id": "CiqcIwHcSeFC"
      },
      "execution_count": 14,
      "outputs": []
    },
    {
      "cell_type": "code",
      "source": [
        "%cd /content/-Data-Analytics\n",
        "\n",
        "!git config --global user.email \"ngodanh03112005@gmail.com\"\n",
        "!git config --global user.name \"ncdanh0311\"\n",
        "\n",
        "!git add \"Liverpool stats.csv\"\n",
        "!git commit -m \"add Liverpool's stats\"\n",
        "!git push\n"
      ],
      "metadata": {
        "id": "7RTxv0JAnBiH",
        "outputId": "ba58834a-4466-4d85-94e8-67a32605861e",
        "colab": {
          "base_uri": "https://localhost:8080/"
        }
      },
      "execution_count": 21,
      "outputs": [
        {
          "output_type": "stream",
          "name": "stdout",
          "text": [
            "/content/-Data-Analytics\n",
            "[main eef6f97] add Liverpool's stats\n",
            " 1 file changed, 37 insertions(+)\n",
            " create mode 100644 Liverpool stats.csv\n",
            "fatal: could not read Username for 'https://github.com': No such device or address\n"
          ]
        }
      ]
    },
    {
      "cell_type": "code",
      "source": [
        "df.info()"
      ],
      "metadata": {
        "id": "upN9aZXLWoKg"
      },
      "execution_count": null,
      "outputs": []
    },
    {
      "cell_type": "code",
      "source": [
        "df.head(36)"
      ],
      "metadata": {
        "id": "jEHrKNWrTj6H"
      },
      "execution_count": null,
      "outputs": []
    },
    {
      "cell_type": "code",
      "source": [
        "# Set up the plotting environment\n",
        "sns.set(style=\"whitegrid\")"
      ],
      "metadata": {
        "id": "0j5NQWltXM3e"
      },
      "execution_count": null,
      "outputs": []
    },
    {
      "cell_type": "code",
      "source": [
        "# 1. Distribution of Player Ages\n",
        "plt.figure(figsize=(10, 6))\n",
        "sns.histplot(df['age'], bins=5, kde=True, color='blue')\n",
        "plt.title('Distribution of Player Ages')\n",
        "plt.xlabel('Age')\n",
        "plt.ylabel('Number of Players')\n",
        "plt.show()"
      ],
      "metadata": {
        "id": "fgV7-fALXUwW"
      },
      "execution_count": null,
      "outputs": []
    },
    {
      "cell_type": "code",
      "source": [
        "plt.figure(figsize=(10, 6))\n",
        "sns.scatterplot(x='age', y='goals', data=df, hue='pos', s=100)\n",
        "plt.title('Top Scorers by Age')\n",
        "plt.xlabel('Age')\n",
        "plt.ylabel('Goals')\n",
        "plt.show()"
      ],
      "metadata": {
        "id": "lUG2cPIHgr4J"
      },
      "execution_count": null,
      "outputs": []
    },
    {
      "cell_type": "code",
      "source": [
        "plt.figure(figsize=(10, 6))\n",
        "df_grouped = df.groupby('nation')[['goals', 'assist']].sum().reset_index()\n",
        "df_grouped.set_index('nation').plot(kind='bar', stacked=True, figsize=(10, 6))\n",
        "plt.title('Goals and Assists Contribution by Nationality')\n",
        "plt.xlabel('Nationality')\n",
        "plt.ylabel('Total Contributions')\n",
        "plt.show()"
      ],
      "metadata": {
        "id": "eY0KlczSgUn-"
      },
      "execution_count": null,
      "outputs": []
    },
    {
      "cell_type": "code",
      "source": [
        "df['total_contribution'] = df['goals'] + df['assist']\n",
        "plt.figure(figsize=(10, 6))\n",
        "sns.barplot(x='last_name', y='total_contribution', data=df, palette='magma')\n",
        "plt.title('Contribution by Player (Goals + Assists)')\n",
        "plt.xlabel('Player')\n",
        "plt.ylabel('Total Contribution')\n",
        "plt.xticks(rotation=45)\n",
        "plt.show()"
      ],
      "metadata": {
        "id": "3y4pycoJgUr9"
      },
      "execution_count": null,
      "outputs": []
    },
    {
      "cell_type": "code",
      "source": [
        "plt.figure(figsize=(10, 6))\n",
        "corr = df[['age', 'mp', 'starts', 'Mt', 'full_match', 'goals', 'assist']].corr()\n",
        "sns.heatmap(corr, annot=True, cmap='coolwarm', linewidths=.5)\n",
        "plt.title('Correlation Heatmap')\n",
        "plt.show()"
      ],
      "metadata": {
        "id": "ezI1rMdJXkC-"
      },
      "execution_count": null,
      "outputs": []
    }
  ]
}