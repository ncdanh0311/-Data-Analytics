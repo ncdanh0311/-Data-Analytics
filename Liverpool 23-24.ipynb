{
  "nbformat": 4,
  "nbformat_minor": 0,
  "metadata": {
    "colab": {
      "provenance": [],
      "authorship_tag": "ABX9TyOrakc65DsGJfqQAzBicSZ5",
      "include_colab_link": true
    },
    "kernelspec": {
      "name": "python3",
      "display_name": "Python 3"
    },
    "language_info": {
      "name": "python"
    }
  },
  "cells": [
    {
      "cell_type": "markdown",
      "metadata": {
        "id": "view-in-github",
        "colab_type": "text"
      },
      "source": [
        "<a href=\"https://colab.research.google.com/github/ncdanh0311/-Data-Analytics/blob/main/Liverpool%2023-24.ipynb\" target=\"_parent\"><img src=\"https://colab.research.google.com/assets/colab-badge.svg\" alt=\"Open In Colab\"/></a>"
      ]
    },
    {
      "cell_type": "code",
      "execution_count": 19,
      "metadata": {
        "id": "7GXkvby-SYvG"
      },
      "outputs": [],
      "source": [
        "import numpy as np # linear algebra\n",
        "import pandas as pd # data processing, CSV file I/O (e.g. pd.read_csv)\n",
        "\n",
        "# Input data files are available in the read-only \"../input/\" directory\n",
        "# For example, running this (by clicking run or pressing Shift+Enter) will list all files under the input directory\n",
        "\n",
        "import os\n",
        "for dirname, _, filenames in os.walk('/kaggle/input'):\n",
        "    for filename in filenames:\n",
        "        print(os.path.join(dirname, filename))"
      ]
    },
    {
      "cell_type": "code",
      "source": [
        "import matplotlib.pyplot as plt\n",
        "import seaborn as sns\n",
        "df = pd.read_csv('/content/-Data-Analytics/Liverpool stats.csv')"
      ],
      "metadata": {
        "id": "CiqcIwHcSeFC"
      },
      "execution_count": 20,
      "outputs": []
    },
    {
      "cell_type": "code",
      "source": [
        "from google.colab import files\n",
        "files.upload()\n"
      ],
      "metadata": {
        "id": "ZSJd7SVJtkSD",
        "outputId": "811ad4f6-b1b8-42bf-c6f3-14a8ee5a08c5",
        "colab": {
          "base_uri": "https://localhost:8080/",
          "height": 180
        }
      },
      "execution_count": 21,
      "outputs": [
        {
          "output_type": "display_data",
          "data": {
            "text/plain": [
              "<IPython.core.display.HTML object>"
            ],
            "text/html": [
              "\n",
              "     <input type=\"file\" id=\"files-db77a234-2281-420a-b733-3c8206825c27\" name=\"files[]\" multiple disabled\n",
              "        style=\"border:none\" />\n",
              "     <output id=\"result-db77a234-2281-420a-b733-3c8206825c27\">\n",
              "      Upload widget is only available when the cell has been executed in the\n",
              "      current browser session. Please rerun this cell to enable.\n",
              "      </output>\n",
              "      <script>// Copyright 2017 Google LLC\n",
              "//\n",
              "// Licensed under the Apache License, Version 2.0 (the \"License\");\n",
              "// you may not use this file except in compliance with the License.\n",
              "// You may obtain a copy of the License at\n",
              "//\n",
              "//      http://www.apache.org/licenses/LICENSE-2.0\n",
              "//\n",
              "// Unless required by applicable law or agreed to in writing, software\n",
              "// distributed under the License is distributed on an \"AS IS\" BASIS,\n",
              "// WITHOUT WARRANTIES OR CONDITIONS OF ANY KIND, either express or implied.\n",
              "// See the License for the specific language governing permissions and\n",
              "// limitations under the License.\n",
              "\n",
              "/**\n",
              " * @fileoverview Helpers for google.colab Python module.\n",
              " */\n",
              "(function(scope) {\n",
              "function span(text, styleAttributes = {}) {\n",
              "  const element = document.createElement('span');\n",
              "  element.textContent = text;\n",
              "  for (const key of Object.keys(styleAttributes)) {\n",
              "    element.style[key] = styleAttributes[key];\n",
              "  }\n",
              "  return element;\n",
              "}\n",
              "\n",
              "// Max number of bytes which will be uploaded at a time.\n",
              "const MAX_PAYLOAD_SIZE = 100 * 1024;\n",
              "\n",
              "function _uploadFiles(inputId, outputId) {\n",
              "  const steps = uploadFilesStep(inputId, outputId);\n",
              "  const outputElement = document.getElementById(outputId);\n",
              "  // Cache steps on the outputElement to make it available for the next call\n",
              "  // to uploadFilesContinue from Python.\n",
              "  outputElement.steps = steps;\n",
              "\n",
              "  return _uploadFilesContinue(outputId);\n",
              "}\n",
              "\n",
              "// This is roughly an async generator (not supported in the browser yet),\n",
              "// where there are multiple asynchronous steps and the Python side is going\n",
              "// to poll for completion of each step.\n",
              "// This uses a Promise to block the python side on completion of each step,\n",
              "// then passes the result of the previous step as the input to the next step.\n",
              "function _uploadFilesContinue(outputId) {\n",
              "  const outputElement = document.getElementById(outputId);\n",
              "  const steps = outputElement.steps;\n",
              "\n",
              "  const next = steps.next(outputElement.lastPromiseValue);\n",
              "  return Promise.resolve(next.value.promise).then((value) => {\n",
              "    // Cache the last promise value to make it available to the next\n",
              "    // step of the generator.\n",
              "    outputElement.lastPromiseValue = value;\n",
              "    return next.value.response;\n",
              "  });\n",
              "}\n",
              "\n",
              "/**\n",
              " * Generator function which is called between each async step of the upload\n",
              " * process.\n",
              " * @param {string} inputId Element ID of the input file picker element.\n",
              " * @param {string} outputId Element ID of the output display.\n",
              " * @return {!Iterable<!Object>} Iterable of next steps.\n",
              " */\n",
              "function* uploadFilesStep(inputId, outputId) {\n",
              "  const inputElement = document.getElementById(inputId);\n",
              "  inputElement.disabled = false;\n",
              "\n",
              "  const outputElement = document.getElementById(outputId);\n",
              "  outputElement.innerHTML = '';\n",
              "\n",
              "  const pickedPromise = new Promise((resolve) => {\n",
              "    inputElement.addEventListener('change', (e) => {\n",
              "      resolve(e.target.files);\n",
              "    });\n",
              "  });\n",
              "\n",
              "  const cancel = document.createElement('button');\n",
              "  inputElement.parentElement.appendChild(cancel);\n",
              "  cancel.textContent = 'Cancel upload';\n",
              "  const cancelPromise = new Promise((resolve) => {\n",
              "    cancel.onclick = () => {\n",
              "      resolve(null);\n",
              "    };\n",
              "  });\n",
              "\n",
              "  // Wait for the user to pick the files.\n",
              "  const files = yield {\n",
              "    promise: Promise.race([pickedPromise, cancelPromise]),\n",
              "    response: {\n",
              "      action: 'starting',\n",
              "    }\n",
              "  };\n",
              "\n",
              "  cancel.remove();\n",
              "\n",
              "  // Disable the input element since further picks are not allowed.\n",
              "  inputElement.disabled = true;\n",
              "\n",
              "  if (!files) {\n",
              "    return {\n",
              "      response: {\n",
              "        action: 'complete',\n",
              "      }\n",
              "    };\n",
              "  }\n",
              "\n",
              "  for (const file of files) {\n",
              "    const li = document.createElement('li');\n",
              "    li.append(span(file.name, {fontWeight: 'bold'}));\n",
              "    li.append(span(\n",
              "        `(${file.type || 'n/a'}) - ${file.size} bytes, ` +\n",
              "        `last modified: ${\n",
              "            file.lastModifiedDate ? file.lastModifiedDate.toLocaleDateString() :\n",
              "                                    'n/a'} - `));\n",
              "    const percent = span('0% done');\n",
              "    li.appendChild(percent);\n",
              "\n",
              "    outputElement.appendChild(li);\n",
              "\n",
              "    const fileDataPromise = new Promise((resolve) => {\n",
              "      const reader = new FileReader();\n",
              "      reader.onload = (e) => {\n",
              "        resolve(e.target.result);\n",
              "      };\n",
              "      reader.readAsArrayBuffer(file);\n",
              "    });\n",
              "    // Wait for the data to be ready.\n",
              "    let fileData = yield {\n",
              "      promise: fileDataPromise,\n",
              "      response: {\n",
              "        action: 'continue',\n",
              "      }\n",
              "    };\n",
              "\n",
              "    // Use a chunked sending to avoid message size limits. See b/62115660.\n",
              "    let position = 0;\n",
              "    do {\n",
              "      const length = Math.min(fileData.byteLength - position, MAX_PAYLOAD_SIZE);\n",
              "      const chunk = new Uint8Array(fileData, position, length);\n",
              "      position += length;\n",
              "\n",
              "      const base64 = btoa(String.fromCharCode.apply(null, chunk));\n",
              "      yield {\n",
              "        response: {\n",
              "          action: 'append',\n",
              "          file: file.name,\n",
              "          data: base64,\n",
              "        },\n",
              "      };\n",
              "\n",
              "      let percentDone = fileData.byteLength === 0 ?\n",
              "          100 :\n",
              "          Math.round((position / fileData.byteLength) * 100);\n",
              "      percent.textContent = `${percentDone}% done`;\n",
              "\n",
              "    } while (position < fileData.byteLength);\n",
              "  }\n",
              "\n",
              "  // All done.\n",
              "  yield {\n",
              "    response: {\n",
              "      action: 'complete',\n",
              "    }\n",
              "  };\n",
              "}\n",
              "\n",
              "scope.google = scope.google || {};\n",
              "scope.google.colab = scope.google.colab || {};\n",
              "scope.google.colab._files = {\n",
              "  _uploadFiles,\n",
              "  _uploadFilesContinue,\n",
              "};\n",
              "})(self);\n",
              "</script> "
            ]
          },
          "metadata": {}
        },
        {
          "output_type": "stream",
          "name": "stdout",
          "text": [
            "Saving Liverpool stats.csv to Liverpool stats (1).csv\n"
          ]
        },
        {
          "output_type": "execute_result",
          "data": {
            "text/plain": [
              "{'Liverpool stats (1).csv': b'player_id,first_name,last_name,age,nation,mp,starts,Mt,full_match,goals,assist,pos\\r\\n1,Allison,Becker,31,BRA,21,21,1890,21,0,0,GK\\r\\n2,Virgil,Van Dijk,32,NED,23,23,2007,22,1,2,DF\\r\\n3,Mohamed,Salah,31,EGY,21,20,1786,20,15,9,FW\\r\\n4,Dominik,Szoboszlai,23,HUN,21,20,1657,18,3,2,MF\\r\\n5,Trent,Alexander-Arnold,25,ENG,21,19,1622,18,2,4,DF\\r\\n6,Luis,Diaz,27,COL,24,19,1568,17,5,3,FW\\r\\n7,Alexis,Mac Allister,25,ARG,20,19,1541,17,2,1,MF\\r\\n8,Darwin,Nunez,24,URU,24,16,1465,16,9,7,FW\\r\\n9,Ibrahima,Konate,24,FRA,18,13,1242,14,0,0,DF\\r\\n10,Diogo,Jota,27,POR,19,13,1047,12,9,3,FW\\r\\n11,Curtis,Jones,23,ENG,17,12,956,11,1,1,MF\\r\\n12,Joe,Gomez,26,ENG,21,11,1182,13,0,1,DF\\r\\n13,Cody,Gakpo,24,NED,23,10,975,11,4,3,\"FW,MF\"\\r\\n14,Andrew,Robertson,29,SCO,12,10,954,11,1,0,DF\\r\\n15,Wataru,Endo,31,JPN,17,10,883,10,1,0,MF\\r\\n16,Joel,Matip,32,CMR,10,9,781,9,0,0,DF\\r\\n17,Ryan,Gravenberch,21,NED,18,8,768,9,0,0,MF\\r\\n18,Kostas,Tsimikas,27,GRE,11,8,665,7,0,3,DF\\r\\n19,Caoimhin,Kelleher,25,IRL,4,4,360,4,0,0,GK\\r\\n20,Jarell,Quansah,21,ENG,7,4,353,4,0,0,DF\\r\\n21,Harvey,Elliott,20,ENG,21,3,583,7,1,2,\"MF,FW\"\\r\\n22,Conor,Bradley,20,NIR,3,3,231,3,1,3,DF\\r\\n23,Bobby,Clark,19,ENG,3,0,17,0,0,0,MF\\r\\n24,Ben,Doak,18,SCO,1,0,14,0,0,0,FW\\r\\n25,Owen,Beck,21,WAL,1,0,8,0,0,0,DF\\r\\n26,Thiago,Alcantara,32,ESP,1,0,6,0,0,0,MF\\r\\n27,James,McConell,19,ENG,2,0,2,0,0,0,MF\\r\\n28,Kaide,Gordon,19,ENG,1,0,1,0,0,0,FW\\r\\n29,Adrian,Castillo,37,ESP,0,0,0,0,0,0,GK\\r\\n30,Stefan,Bajcetic,19,ESP,0,0,0,0,0,0,DF\\r\\n31,Luke,Chambers,19,ENG,0,0,0,0,0,0,DF\\r\\n32,Lewis,Koumas,18,WAL,0,0,0,0,0,0,MF\\r\\n33,Fabian,Mrozek,20,POL,0,0,0,0,0,0,GK\\r\\n34,Trey,Nyoni,16,ENG,0,0,0,0,0,0,MF\\r\\n35,Marcelo,Pitaluga,21,BRA,0,0,0,0,0,0,GK\\r\\n36,Calum,Scanlon,19,ENG,0,0,0,0,0,0,MF'}"
            ]
          },
          "metadata": {},
          "execution_count": 21
        }
      ]
    },
    {
      "cell_type": "code",
      "source": [
        "df.info()"
      ],
      "metadata": {
        "id": "upN9aZXLWoKg"
      },
      "execution_count": null,
      "outputs": []
    },
    {
      "cell_type": "code",
      "source": [
        "df.head(36)"
      ],
      "metadata": {
        "id": "jEHrKNWrTj6H"
      },
      "execution_count": null,
      "outputs": []
    },
    {
      "cell_type": "code",
      "source": [
        "# Set up the plotting environment\n",
        "sns.set(style=\"whitegrid\")"
      ],
      "metadata": {
        "id": "0j5NQWltXM3e"
      },
      "execution_count": null,
      "outputs": []
    },
    {
      "cell_type": "code",
      "source": [
        "# 1. Distribution of Player Ages\n",
        "plt.figure(figsize=(10, 6))\n",
        "sns.histplot(df['age'], bins=5, kde=True, color='blue')\n",
        "plt.title('Distribution of Player Ages')\n",
        "plt.xlabel('Age')\n",
        "plt.ylabel('Number of Players')\n",
        "plt.show()"
      ],
      "metadata": {
        "id": "fgV7-fALXUwW"
      },
      "execution_count": null,
      "outputs": []
    },
    {
      "cell_type": "code",
      "source": [
        "plt.figure(figsize=(10, 6))\n",
        "sns.scatterplot(x='age', y='goals', data=df, hue='pos', s=100)\n",
        "plt.title('Top Scorers by Age')\n",
        "plt.xlabel('Age')\n",
        "plt.ylabel('Goals')\n",
        "plt.show()"
      ],
      "metadata": {
        "id": "lUG2cPIHgr4J"
      },
      "execution_count": null,
      "outputs": []
    },
    {
      "cell_type": "code",
      "source": [
        "plt.figure(figsize=(10, 6))\n",
        "df_grouped = df.groupby('nation')[['goals', 'assist']].sum().reset_index()\n",
        "df_grouped.set_index('nation').plot(kind='bar', stacked=True, figsize=(10, 6))\n",
        "plt.title('Goals and Assists Contribution by Nationality')\n",
        "plt.xlabel('Nationality')\n",
        "plt.ylabel('Total Contributions')\n",
        "plt.show()"
      ],
      "metadata": {
        "id": "eY0KlczSgUn-"
      },
      "execution_count": null,
      "outputs": []
    },
    {
      "cell_type": "code",
      "source": [
        "df['total_contribution'] = df['goals'] + df['assist']\n",
        "plt.figure(figsize=(10, 6))\n",
        "sns.barplot(x='last_name', y='total_contribution', data=df, palette='magma')\n",
        "plt.title('Contribution by Player (Goals + Assists)')\n",
        "plt.xlabel('Player')\n",
        "plt.ylabel('Total Contribution')\n",
        "plt.xticks(rotation=45)\n",
        "plt.show()"
      ],
      "metadata": {
        "id": "3y4pycoJgUr9"
      },
      "execution_count": null,
      "outputs": []
    },
    {
      "cell_type": "code",
      "source": [
        "plt.figure(figsize=(10, 6))\n",
        "corr = df[['age', 'mp', 'starts', 'Mt', 'full_match', 'goals', 'assist']].corr()\n",
        "sns.heatmap(corr, annot=True, cmap='coolwarm', linewidths=.5)\n",
        "plt.title('Correlation Heatmap')\n",
        "plt.show()"
      ],
      "metadata": {
        "id": "ezI1rMdJXkC-"
      },
      "execution_count": null,
      "outputs": []
    }
  ]
}